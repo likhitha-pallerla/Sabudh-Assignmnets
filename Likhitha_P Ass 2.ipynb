{
  "nbformat": 4,
  "nbformat_minor": 0,
  "metadata": {
    "colab": {
      "name": "Ishika Garg Ass-2",
      "provenance": [],
      "collapsed_sections": []
    },
    "kernelspec": {
      "name": "python3",
      "display_name": "Python 3"
    }
  },
  "cells": [
    {
      "cell_type": "code",
      "metadata": {
        "id": "Gk5FRga1c5_J",
        "colab_type": "code",
        "colab": {}
      },
      "source": [
        "import numpy as np\n",
        "\n",
        "import matplotlib.pyplot as plt\n",
        "\n",
        "from scipy.spatial import distance"
      ],
      "execution_count": null,
      "outputs": []
    },
    {
      "cell_type": "code",
      "metadata": {
        "id": "oqlDzuBxeAiR",
        "colab_type": "code",
        "colab": {}
      },
      "source": [
        "def generate_array(std, size, independent_variables):\n",
        "  X=np.random.randn(size, independent_variables+1)\n",
        "  X[:, 0]=1\n",
        "  B=np.random.randn(independent_variables+1, 1)\n",
        "  Y=(X.dot(B) + np.random.normal(0, std))\n",
        "  return X, Y, B\n",
        "\n",
        "# std=6\n",
        "# size=500\n",
        "# independent_variables=10\n",
        "# X, Y, Bp = generate_array(std, size, independent_variables)"
      ],
      "execution_count": null,
      "outputs": []
    },
    {
      "cell_type": "code",
      "metadata": {
        "id": "9rKEoXMxQYw1",
        "colab_type": "code",
        "colab": {}
      },
      "source": [
        "def cost_function(X, Y, dimension, b):\n",
        "  c_f = Y-(X.dot(b))\n",
        "  c_f_s = np.square(c_f)\n",
        "  sum_c_f_s=np.sum(c_f_s, axis=0)[0]\n",
        "  cost_value = (1/(dimension-1))*sum_c_f_s\n",
        "  return cost_value\n",
        "\n",
        "def derivative_b(X, Y, b):\n",
        "  a=(X.dot(b))-Y\n",
        "  return X.T.dot(a)/len(Y)\n",
        "\n",
        "def learn_parameters(X, Y, epochs, threshold, step_size):\n",
        "  dimension=X[0].shape[0]\n",
        "  cost=[]\n",
        "  cosine_similarity=[]\n",
        "\n",
        "  #1. Assuming random values of b\n",
        "  b=np.random.randn(dimension, 1)\n",
        "\n",
        "  #2. Calculate cost function value and Update value of b0 and b1 such that C reduces\n",
        "  for i in range(epochs):\n",
        "    loss = derivative_b(X, Y, b)\n",
        "    b=b-step_size*loss\n",
        "    cost_function_value=cost_function(X, Y, dimension, b)\n",
        "    cost.append(cost_function_value)\n",
        "    if len(cost)>=2:\n",
        "      diff=abs(cost[-2]-cost[-1])\n",
        "      if diff<=threshold:\n",
        "        break\n",
        "  return b, cost_function_value, cost\n",
        "\n",
        "# epochs=25\n",
        "# threshold=0.5\n",
        "# step_size=1\n",
        "# b, cost_function, cost= learn_parameters(X, Y, epochs, threshold, step_size)"
      ],
      "execution_count": null,
      "outputs": []
    },
    {
      "cell_type": "code",
      "metadata": {
        "id": "a8rfBoXleFhs",
        "colab_type": "code",
        "colab": {}
      },
      "source": [
        "def plot(cost):\n",
        "  x=[i for i in range(1, len(cost)+1)]\n",
        "  y=cost\n",
        "  plt.plot(x, y)\n",
        "  plt.xlabel(\"Epochs\")\n",
        "  plt.xlim(0, len(x)+1)\n",
        "  plt.ylabel(\"Cost Function\")\n",
        "  plt.title(\"Reduction In Cost Function\")\n",
        "  plt.show()"
      ],
      "execution_count": null,
      "outputs": []
    },
    {
      "cell_type": "code",
      "metadata": {
        "id": "yJKKZsr6eHyz",
        "colab_type": "code",
        "colab": {}
      },
      "source": [
        "def cosine (B,Bp):\n",
        "  result = 1-distance.cosine(B,Bp)\n",
        "  return result"
      ],
      "execution_count": null,
      "outputs": []
    },
    {
      "cell_type": "code",
      "metadata": {
        "id": "cBa5IsENVfdn",
        "colab_type": "code",
        "colab": {
          "base_uri": "https://localhost:8080/",
          "height": 329
        },
        "outputId": "cb72936f-6c41-4a7a-a0f2-f1b844595b0e"
      },
      "source": [
        "X, Y, Bp = generate_array(0, 10000, 10)\n",
        "b, cost_function, cost= learn_parameters(X, Y, 25, 0.5, 1)\n",
        "plot(cost)\n",
        "print(\"Cosine Similarity:\", cosine(b,Bp))\n",
        "print(\"Latest Cost Function Value:\", cost[-1])"
      ],
      "execution_count": null,
      "outputs": [
        {
          "output_type": "display_data",
          "data": {
            "image/png": "[encoded data removed]",
            "text/plain": [
              "<Figure size 432x288 with 1 Axes>"
            ]
          },
          "metadata": {
            "tags": [],
            "needs_background": "light"
          }
        },
        {
          "output_type": "stream",
          "text": [
            "Cosine Similarity: 0.9999999999913521\n",
            "Latest Cost Function Value: 5.5640014926667516e-05\n"
          ],
          "name": "stdout"
        }
      ]
    },
    {
      "cell_type": "markdown",
      "metadata": {
        "id": "yEhJ-gkVfKO7",
        "colab_type": "text"
      },
      "source": [
        "**Observation -**\n",
        "\n",
        "1. When size of data is very high and variance is very low - Value is beta is good. "
      ]
    },
    {
      "cell_type": "code",
      "metadata": {
        "id": "lcExUptjRQi_",
        "colab_type": "code",
        "colab": {
          "base_uri": "https://localhost:8080/",
          "height": 329
        },
        "outputId": "f0f5fa49-f848-4cb0-9a75-17bf25541336"
      },
      "source": [
        "X, Y, Bp = generate_array(50,10000,10)\n",
        "b, cost_function, cost= learn_parameters(X, Y, 25, 0.5, 1)\n",
        "plot(cost)\n",
        "print(\"Cosine Similarity:\", cosine(b,Bp))\n",
        "print(\"Latest Cost Function Value:\", cost[-1])"
      ],
      "execution_count": null,
      "outputs": [
        {
          "output_type": "display_data",
          "data": {
            "image/png": "[encoded data removed]",
            "text/plain": [
              "<Figure size 432x288 with 1 Axes>"
            ]
          },
          "metadata": {
            "tags": [],
            "needs_background": "light"
          }
        },
        {
          "output_type": "stream",
          "text": [
            "Cosine Similarity: -0.20495165698953\n",
            "Latest Cost Function Value: 0.0003411802536761877\n"
          ],
          "name": "stdout"
        }
      ]
    },
    {
      "cell_type": "markdown",
      "metadata": {
        "id": "G6EUUrM0jIee",
        "colab_type": "text"
      },
      "source": [
        "**Observation -**\n",
        "\n",
        "1. When size of data is very high and variance is also very high - Value is beta is very bad. "
      ]
    },
    {
      "cell_type": "code",
      "metadata": {
        "id": "JGdEbfdyRQp-",
        "colab_type": "code",
        "colab": {
          "base_uri": "https://localhost:8080/",
          "height": 329
        },
        "outputId": "28a1feaf-21e4-4dd0-b987-a8e6da0bb9de"
      },
      "source": [
        "X, Y, Bp = generate_array(0,500,10)\n",
        "b, cost_function, cost= learn_parameters(X, Y, 25, 0.5, 1)\n",
        "plot(cost)\n",
        "print(\"Cosine Similarity:\", cosine(b,Bp))\n",
        "print(\"Latest Cost Function Value:\", cost[-1])"
      ],
      "execution_count": null,
      "outputs": [
        {
          "output_type": "display_data",
          "data": {
            "image/png": "[encoded data removed]",
            "text/plain": [
              "<Figure size 432x288 with 1 Axes>"
            ]
          },
          "metadata": {
            "tags": [],
            "needs_background": "light"
          }
        },
        {
          "output_type": "stream",
          "text": [
            "Cosine Similarity: 0.9999999127060111\n",
            "Latest Cost Function Value: 0.0029959674493781527\n"
          ],
          "name": "stdout"
        }
      ]
    },
    {
      "cell_type": "markdown",
      "metadata": {
        "id": "hWEECRYujVUR",
        "colab_type": "text"
      },
      "source": [
        "**Observation -**\n",
        "\n",
        "1. When size of data is very small and variance is also very small - Value is beta is very good and value of error is good. "
      ]
    },
    {
      "cell_type": "code",
      "metadata": {
        "id": "vcHhJ1opV0c2",
        "colab_type": "code",
        "colab": {
          "base_uri": "https://localhost:8080/",
          "height": 329
        },
        "outputId": "8db45fa2-1986-4079-9774-96b6a972e655"
      },
      "source": [
        "X1, Y1, Bp1 = generate_array(6,500,10)\n",
        "b1, cost_function1, cost1= learn_parameters(X1, Y1, 25, 0.5, 1)\n",
        "plot(cost1)\n",
        "print(\"Cosine Similarity:\", cosine(b,Bp))\n",
        "print(\"Latest Cost Function Value:\", cost[-1])"
      ],
      "execution_count": null,
      "outputs": [
        {
          "output_type": "display_data",
          "data": {
            "image/png": "[encoded data removed]",
            "text/plain": [
              "<Figure size 432x288 with 1 Axes>"
            ]
          },
          "metadata": {
            "tags": [],
            "needs_background": "light"
          }
        },
        {
          "output_type": "stream",
          "text": [
            "Cosine Similarity: 0.9999999127060111\n",
            "Latest Cost Function Value: 0.0029959674493781527\n"
          ],
          "name": "stdout"
        }
      ]
    },
    {
      "cell_type": "markdown",
      "metadata": {
        "id": "dJaYvPh8jjut",
        "colab_type": "text"
      },
      "source": [
        "**Observation -**\n",
        "\n",
        "1. When size of data is very large but variance is very small - Value is beta is very good and value of error is also less. "
      ]
    }
  ]
}